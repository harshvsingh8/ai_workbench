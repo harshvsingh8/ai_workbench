{
 "cells": [
  {
   "cell_type": "code",
   "execution_count": 4,
   "id": "b665aa18",
   "metadata": {},
   "outputs": [],
   "source": [
    "import numpy\n",
    "import torch\n",
    "import re"
   ]
  },
  {
   "cell_type": "markdown",
   "id": "39af0ab0",
   "metadata": {},
   "source": [
    "The corpus file the-verdict.txt is downloaded using corpus_file_download.py script.\n",
    "It will serve as our training data for the exercises."
   ]
  },
  {
   "cell_type": "code",
   "execution_count": 3,
   "id": "81bdb7dd",
   "metadata": {},
   "outputs": [
    {
     "name": "stdout",
     "output_type": "stream",
     "text": [
      "Length of text: 20479 characters\n",
      "I HAD always thought Jack Gisburn rather a\n"
     ]
    }
   ],
   "source": [
    "\n",
    "with open(\"the-verdict.txt\", \"r\", encoding=\"utf-8\") as f:\n",
    "    raw_text = f.read()\n",
    "print(f\"Length of text: {len(raw_text)} characters\")\n",
    "print(raw_text[:42])\n"
   ]
  },
  {
   "cell_type": "code",
   "execution_count": 6,
   "id": "8d6dd458",
   "metadata": {},
   "outputs": [
    {
     "name": "stdout",
     "output_type": "stream",
     "text": [
      "['Hello,', ' ', 'world.', ' ', 'This', ' ', 'is', ' ', 'a', ' ', 'test.']\n"
     ]
    }
   ],
   "source": [
    "text = \"Hello, world. This is a test.\"\n",
    "result = re.split(r'(\\s)', text)\n",
    "print(result)"
   ]
  },
  {
   "cell_type": "code",
   "execution_count": 8,
   "id": "aa170c14",
   "metadata": {},
   "outputs": [
    {
     "name": "stdout",
     "output_type": "stream",
     "text": [
      "['Hello', ',', '', ' ', 'world', '.', '', ' ', 'This', ' ', 'is', ' ', 'a', ' ', 'test', '.', '']\n"
     ]
    }
   ],
   "source": [
    "# Split but keep the delimiters (commas, periods, and spaces) as tokens.\n",
    "text = \"Hello, world. This is a test.\"\n",
    "result = re.split(r'([,.]|\\s)', text)\n",
    "print(result) "
   ]
  },
  {
   "cell_type": "code",
   "execution_count": 11,
   "id": "d4183f90",
   "metadata": {},
   "outputs": [
    {
     "name": "stdout",
     "output_type": "stream",
     "text": [
      "['Hello', ',', 'world', '.', 'Is', 'this', '--', 'a', 'test', '?']\n"
     ]
    }
   ],
   "source": [
    "# More comprehensive tokenizer that keeps various punctuation as separate tokens (but removes empty tokens).\n",
    "text = \"Hello, world. Is this-- a test?\"\n",
    "result = re.split(r'([,.:;?_!\"()\\`]|--|\\s)', text)\n",
    "result = [tok.strip() for tok in result if tok.strip()]\n",
    "print(result) "
   ]
  },
  {
   "cell_type": "code",
   "execution_count": 39,
   "id": "0e58e117",
   "metadata": {},
   "outputs": [
    {
     "name": "stdout",
     "output_type": "stream",
     "text": [
      "4690\n",
      "['I', 'HAD', 'always', 'thought', 'Jack', 'Gisburn', 'rather', 'a', 'cheap', 'genius', '--', 'though', 'a', 'good', 'fellow', 'enough', '--', 'so', 'it', 'was', 'no', 'great', 'surprise', 'to', 'me', 'to', 'hear', 'that', ',', 'in']\n",
      "Vocab size: 1130\n",
      "['!', '\"', \"'\", '(', ')', ',', '--', '.', ':', ';', '?', 'A', 'Ah', 'Among', 'And', 'Are', 'Arrt', 'As', 'At', 'Be']\n"
     ]
    }
   ],
   "source": [
    "# Tokenizing the actual corpus text - printing its length and first tokens.\n",
    "with open(\"the-verdict.txt\", \"r\", encoding=\"utf-8\") as f:\n",
    "    raw_text = f.read()\n",
    "   \n",
    "# Split but keep various punctuation as separate tokens (but removes empty tokens).\n",
    "preprocessed = re.split(r'([,.:;?_!\"()\\'`]|--|\\s)', raw_text)\n",
    "preprocessed = [tok.strip() for tok in preprocessed if tok.strip()]\n",
    "print(len(preprocessed))\n",
    "print(preprocessed[:30])\n",
    "\n",
    "all_words = sorted(set(preprocessed))\n",
    "vocab_size = len(all_words)\n",
    "print(f\"Vocab size: {vocab_size}\")\n",
    "print(all_words[:20])\n"
   ]
  },
  {
   "cell_type": "code",
   "execution_count": 47,
   "id": "de6ecef3",
   "metadata": {},
   "outputs": [
    {
     "name": "stdout",
     "output_type": "stream",
     "text": [
      "('!', 0)\n",
      "('\"', 1)\n",
      "(\"'\", 2)\n",
      "('(', 3)\n",
      "(')', 4)\n",
      "(',', 5)\n",
      "('--', 6)\n",
      "('.', 7)\n",
      "(':', 8)\n",
      "(';', 9)\n",
      "('?', 10)\n",
      "('A', 11)\n",
      "('Ah', 12)\n",
      "('Among', 13)\n",
      "('And', 14)\n",
      "('Are', 15)\n",
      "('Arrt', 16)\n",
      "('As', 17)\n"
     ]
    }
   ],
   "source": [
    "vocab = {token:index for index, token in enumerate(all_words)}\n",
    "inverse_vocab = {index:token for index, token in enumerate(all_words)}\n",
    "\n",
    "for index, item in enumerate(vocab.items()):\n",
    "    if index >= 18:\n",
    "        break\n",
    "    print(item)\n"
   ]
  },
  {
   "cell_type": "code",
   "execution_count": 55,
   "id": "b538cd5b",
   "metadata": {},
   "outputs": [
    {
     "name": "stdout",
     "output_type": "stream",
     "text": [
      "encoded tokens: ['\"', 'It', \"'\", 's', 'the', 'last', 'he', 'painted', ',', 'you', 'know', ',', '\"', 'Mrs', '.', 'Gisburn', 'said', 'with', 'pardonable', 'pride', '.']\n",
      "[1, 56, 2, 850, 988, 602, 533, 746, 5, 1126, 596, 5, 1, 67, 7, 38, 851, 1108, 754, 793, 7]\n"
     ]
    }
   ],
   "source": [
    "import simple_tokenizer_v1\n",
    "\n",
    "# Tecnically reload the module to reflect any recent changes made to it externally.\n",
    "# import importlib\n",
    "# importlib.reload(simple_tokenizer_v1)\n",
    "\n",
    "tokenizer = simple_tokenizer_v1.SimpleTokenizerV1(vocab)\n",
    "text = \"\"\"\"It's the last he painted, you know,\"\n",
    "          Mrs. Gisburn said with pardonable pride.\"\"\"\n",
    "ids = tokenizer.encode(text)\n",
    "print(ids) \n"
   ]
  }
 ],
 "metadata": {
  "kernelspec": {
   "display_name": "venv",
   "language": "python",
   "name": "python3"
  },
  "language_info": {
   "codemirror_mode": {
    "name": "ipython",
    "version": 3
   },
   "file_extension": ".py",
   "mimetype": "text/x-python",
   "name": "python",
   "nbconvert_exporter": "python",
   "pygments_lexer": "ipython3",
   "version": "3.10.12"
  }
 },
 "nbformat": 4,
 "nbformat_minor": 5
}
