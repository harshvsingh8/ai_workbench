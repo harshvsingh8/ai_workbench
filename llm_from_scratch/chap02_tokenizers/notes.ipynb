{
 "cells": [
  {
   "cell_type": "code",
   "execution_count": 4,
   "id": "b665aa18",
   "metadata": {},
   "outputs": [],
   "source": [
    "import numpy\n",
    "import torch\n",
    "import re"
   ]
  },
  {
   "cell_type": "markdown",
   "id": "39af0ab0",
   "metadata": {},
   "source": [
    "The corpus file the-verdict.txt is downloaded using corpus_file_download.py script.\n",
    "It will serve as our training data for the exercises."
   ]
  },
  {
   "cell_type": "code",
   "execution_count": 3,
   "id": "81bdb7dd",
   "metadata": {},
   "outputs": [
    {
     "name": "stdout",
     "output_type": "stream",
     "text": [
      "Length of text: 20479 characters\n",
      "I HAD always thought Jack Gisburn rather a\n"
     ]
    }
   ],
   "source": [
    "\n",
    "with open(\"the-verdict.txt\", \"r\", encoding=\"utf-8\") as f:\n",
    "    raw_text = f.read()\n",
    "print(f\"Length of text: {len(raw_text)} characters\")\n",
    "print(raw_text[:42])\n"
   ]
  },
  {
   "cell_type": "code",
   "execution_count": 6,
   "id": "8d6dd458",
   "metadata": {},
   "outputs": [
    {
     "name": "stdout",
     "output_type": "stream",
     "text": [
      "['Hello,', ' ', 'world.', ' ', 'This', ' ', 'is', ' ', 'a', ' ', 'test.']\n"
     ]
    }
   ],
   "source": [
    "text = \"Hello, world. This is a test.\"\n",
    "result = re.split(r'(\\s)', text)\n",
    "print(result)"
   ]
  },
  {
   "cell_type": "code",
   "execution_count": 8,
   "id": "aa170c14",
   "metadata": {},
   "outputs": [
    {
     "name": "stdout",
     "output_type": "stream",
     "text": [
      "['Hello', ',', '', ' ', 'world', '.', '', ' ', 'This', ' ', 'is', ' ', 'a', ' ', 'test', '.', '']\n"
     ]
    }
   ],
   "source": [
    "# Split but keep the delimiters (commas, periods, and spaces) as tokens.\n",
    "text = \"Hello, world. This is a test.\"\n",
    "result = re.split(r'([,.]|\\s)', text)\n",
    "print(result) "
   ]
  },
  {
   "cell_type": "code",
   "execution_count": 11,
   "id": "d4183f90",
   "metadata": {},
   "outputs": [
    {
     "name": "stdout",
     "output_type": "stream",
     "text": [
      "['Hello', ',', 'world', '.', 'Is', 'this', '--', 'a', 'test', '?']\n"
     ]
    }
   ],
   "source": [
    "# More comprehensive tokenizer that keeps various punctuation as separate tokens (but removes empty tokens).\n",
    "text = \"Hello, world. Is this-- a test?\"\n",
    "result = re.split(r'([,.:;?_!\"()\\`]|--|\\s)', text)\n",
    "result = [tok.strip() for tok in result if tok.strip()]\n",
    "print(result) "
   ]
  },
  {
   "cell_type": "code",
   "execution_count": 39,
   "id": "0e58e117",
   "metadata": {},
   "outputs": [
    {
     "name": "stdout",
     "output_type": "stream",
     "text": [
      "4690\n",
      "['I', 'HAD', 'always', 'thought', 'Jack', 'Gisburn', 'rather', 'a', 'cheap', 'genius', '--', 'though', 'a', 'good', 'fellow', 'enough', '--', 'so', 'it', 'was', 'no', 'great', 'surprise', 'to', 'me', 'to', 'hear', 'that', ',', 'in']\n",
      "Vocab size: 1130\n",
      "['!', '\"', \"'\", '(', ')', ',', '--', '.', ':', ';', '?', 'A', 'Ah', 'Among', 'And', 'Are', 'Arrt', 'As', 'At', 'Be']\n"
     ]
    }
   ],
   "source": [
    "# Tokenizing the actual corpus text - printing its length and first tokens.\n",
    "with open(\"the-verdict.txt\", \"r\", encoding=\"utf-8\") as f:\n",
    "    raw_text = f.read()\n",
    "   \n",
    "# Split but keep various punctuation as separate tokens (but removes empty tokens).\n",
    "preprocessed = re.split(r'([,.:;?_!\"()\\'`]|--|\\s)', raw_text)\n",
    "preprocessed = [tok.strip() for tok in preprocessed if tok.strip()]\n",
    "print(len(preprocessed))\n",
    "print(preprocessed[:30])\n",
    "\n",
    "all_words = sorted(set(preprocessed))\n",
    "vocab_size = len(all_words)\n",
    "print(f\"Vocab size: {vocab_size}\")\n",
    "print(all_words[:20])\n"
   ]
  },
  {
   "cell_type": "code",
   "execution_count": 47,
   "id": "de6ecef3",
   "metadata": {},
   "outputs": [
    {
     "name": "stdout",
     "output_type": "stream",
     "text": [
      "('!', 0)\n",
      "('\"', 1)\n",
      "(\"'\", 2)\n",
      "('(', 3)\n",
      "(')', 4)\n",
      "(',', 5)\n",
      "('--', 6)\n",
      "('.', 7)\n",
      "(':', 8)\n",
      "(';', 9)\n",
      "('?', 10)\n",
      "('A', 11)\n",
      "('Ah', 12)\n",
      "('Among', 13)\n",
      "('And', 14)\n",
      "('Are', 15)\n",
      "('Arrt', 16)\n",
      "('As', 17)\n"
     ]
    }
   ],
   "source": [
    "vocab = {token:index for index, token in enumerate(all_words)}\n",
    "inverse_vocab = {index:token for index, token in enumerate(all_words)}\n",
    "\n",
    "for index, item in enumerate(vocab.items()):\n",
    "    if index >= 18:\n",
    "        break\n",
    "    print(item)\n"
   ]
  },
  {
   "cell_type": "code",
   "execution_count": null,
   "id": "b538cd5b",
   "metadata": {},
   "outputs": [
    {
     "name": "stdout",
     "output_type": "stream",
     "text": [
      "encoded tokens: ['\"', 'It', \"'\", 's', 'the', 'last', 'he', 'painted', ',', 'you', 'know', ',', '\"', 'Mrs', '.', 'Gisburn', 'said', 'with', 'pardonable', 'pride', '.']\n",
      "[1, 56, 2, 850, 988, 602, 533, 746, 5, 1126, 596, 5, 1, 67, 7, 38, 851, 1108, 754, 793, 7]\n"
     ]
    }
   ],
   "source": [
    "import simple_tokenizer_v1\n",
    "\n",
    "# Tecnically reload the module to reflect any recent changes made to it externally.\n",
    "# import importlib\n",
    "# importlib.reload(simple_tokenizer_v1)\n",
    "\n",
    "tokenizer = simple_tokenizer_v1.SimpleTokenizerV1(vocab)\n",
    "text = \"\"\"\"It's the last he painted, you know,\"\n",
    "          Mrs. Gisburn said with pardonable pride.\"\"\"\n",
    "ids = tokenizer.encode(text)\n",
    "print(ids) \n",
    "    "
   ]
  },
  {
   "cell_type": "markdown",
   "id": "52212dc8",
   "metadata": {},
   "source": [
    "Now we will check what happens when we use an unseen token (not present in the corpus)."
   ]
  },
  {
   "cell_type": "code",
   "execution_count": 56,
   "id": "34d87107",
   "metadata": {},
   "outputs": [
    {
     "name": "stdout",
     "output_type": "stream",
     "text": [
      "encoded tokens: ['This', 'is', 'an', 'unseenword', 'test', '.']\n"
     ]
    },
    {
     "ename": "KeyError",
     "evalue": "'unseenword'",
     "output_type": "error",
     "traceback": [
      "\u001b[0;31m---------------------------------------------------------------------------\u001b[0m",
      "\u001b[0;31mKeyError\u001b[0m                                  Traceback (most recent call last)",
      "Cell \u001b[0;32mIn[56], line 2\u001b[0m\n\u001b[1;32m      1\u001b[0m text \u001b[38;5;241m=\u001b[39m \u001b[38;5;124m\"\u001b[39m\u001b[38;5;124mThis is an unseenword test.\u001b[39m\u001b[38;5;124m\"\u001b[39m\n\u001b[0;32m----> 2\u001b[0m ids \u001b[38;5;241m=\u001b[39m \u001b[43mtokenizer\u001b[49m\u001b[38;5;241;43m.\u001b[39;49m\u001b[43mencode\u001b[49m\u001b[43m(\u001b[49m\u001b[43mtext\u001b[49m\u001b[43m)\u001b[49m\n\u001b[1;32m      3\u001b[0m \u001b[38;5;28mprint\u001b[39m(ids)\n",
      "File \u001b[0;32m~/github/ai_workbench/llm_from_scratch/chap02_tokenizers/simple_tokenizer_v1.py:16\u001b[0m, in \u001b[0;36mSimpleTokenizerV1.encode\u001b[0;34m(self, text)\u001b[0m\n\u001b[1;32m     14\u001b[0m tokens \u001b[38;5;241m=\u001b[39m [tok\u001b[38;5;241m.\u001b[39mstrip() \u001b[38;5;28;01mfor\u001b[39;00m tok \u001b[38;5;129;01min\u001b[39;00m tokens \u001b[38;5;28;01mif\u001b[39;00m tok\u001b[38;5;241m.\u001b[39mstrip()]\n\u001b[1;32m     15\u001b[0m \u001b[38;5;28mprint\u001b[39m(\u001b[38;5;124m\"\u001b[39m\u001b[38;5;124mencoded tokens:\u001b[39m\u001b[38;5;124m\"\u001b[39m, tokens)\n\u001b[0;32m---> 16\u001b[0m \u001b[38;5;28;01mreturn\u001b[39;00m [\u001b[38;5;28mself\u001b[39m\u001b[38;5;241m.\u001b[39mvocab[token] \u001b[38;5;28;01mfor\u001b[39;00m token \u001b[38;5;129;01min\u001b[39;00m tokens]\n",
      "File \u001b[0;32m~/github/ai_workbench/llm_from_scratch/chap02_tokenizers/simple_tokenizer_v1.py:16\u001b[0m, in \u001b[0;36m<listcomp>\u001b[0;34m(.0)\u001b[0m\n\u001b[1;32m     14\u001b[0m tokens \u001b[38;5;241m=\u001b[39m [tok\u001b[38;5;241m.\u001b[39mstrip() \u001b[38;5;28;01mfor\u001b[39;00m tok \u001b[38;5;129;01min\u001b[39;00m tokens \u001b[38;5;28;01mif\u001b[39;00m tok\u001b[38;5;241m.\u001b[39mstrip()]\n\u001b[1;32m     15\u001b[0m \u001b[38;5;28mprint\u001b[39m(\u001b[38;5;124m\"\u001b[39m\u001b[38;5;124mencoded tokens:\u001b[39m\u001b[38;5;124m\"\u001b[39m, tokens)\n\u001b[0;32m---> 16\u001b[0m \u001b[38;5;28;01mreturn\u001b[39;00m [\u001b[38;5;28;43mself\u001b[39;49m\u001b[38;5;241;43m.\u001b[39;49m\u001b[43mvocab\u001b[49m\u001b[43m[\u001b[49m\u001b[43mtoken\u001b[49m\u001b[43m]\u001b[49m \u001b[38;5;28;01mfor\u001b[39;00m token \u001b[38;5;129;01min\u001b[39;00m tokens]\n",
      "\u001b[0;31mKeyError\u001b[0m: 'unseenword'"
     ]
    }
   ],
   "source": [
    "text = \"This is an unseenword test.\"\n",
    "ids = tokenizer.encode(text)\n",
    "print(ids)"
   ]
  },
  {
   "cell_type": "markdown",
   "id": "e383e18e",
   "metadata": {},
   "source": [
    "The next tokenizer version supports unknown and end-of-text tokens, so not it \n",
    "can handle unseen words and seperate token blocks."
   ]
  },
  {
   "cell_type": "code",
   "execution_count": 57,
   "id": "2e6bd435",
   "metadata": {},
   "outputs": [
    {
     "name": "stdout",
     "output_type": "stream",
     "text": [
      "encoded tokens: ['This', 'is', 'an', '<|unk|>', '<|unk|>', '.']\n",
      "ids: [97, 584, 156, 1130, 1130, 7]\n",
      "decoded text: This is an <|unk|> <|unk|>.\n"
     ]
    }
   ],
   "source": [
    "import simple_tokenizer_v2\n",
    "tokenizer_v2 = simple_tokenizer_v2.SimpleTokenizerV2(vocab)\n",
    "text = \"This is an unseenword test.\"\n",
    "ids = tokenizer_v2.encode(text)\n",
    "print(\"ids:\", ids)\n",
    "decoded_text = tokenizer_v2.decode(ids)\n",
    "print(\"decoded text:\", decoded_text)\n"
   ]
  },
  {
   "cell_type": "code",
   "execution_count": 59,
   "id": "d9612733",
   "metadata": {},
   "outputs": [
    {
     "name": "stdout",
     "output_type": "stream",
     "text": [
      "encoded tokens: ['<|unk|>', ',', 'do', 'you', 'like', 'tea', '?', '<|endoftext|>', 'In', 'the', 'sunlit', 'terraces', 'of', 'the', '<|unk|>', '.']\n",
      "ids: [1130, 5, 355, 1126, 628, 975, 10, 1131, 55, 988, 956, 984, 722, 988, 1130, 7]\n",
      "decoded text: <|unk|>, do you like tea? <|endoftext|> In the sunlit terraces of the <|unk|>.\n"
     ]
    }
   ],
   "source": [
    "import simple_tokenizer_v2\n",
    "tokenizer_v2 = simple_tokenizer_v2.SimpleTokenizerV2(vocab)\n",
    "\n",
    "text1 = \"Hello, do you like tea?\"\n",
    "text2 = \"In the sunlit terraces of the palace.\"\n",
    "text = \" <|endoftext|> \".join([text1, text2])\n",
    "ids = tokenizer_v2.encode(text)\n",
    "print(\"ids:\", ids)\n",
    "decoded_text = tokenizer_v2.decode(ids)\n",
    "print(\"decoded text:\", decoded_text)"
   ]
  },
  {
   "cell_type": "markdown",
   "id": "86890c2d",
   "metadata": {},
   "source": [
    "## BPE Encoding \n",
    "\n"
   ]
  },
  {
   "cell_type": "code",
   "execution_count": 60,
   "id": "927e9d4c",
   "metadata": {},
   "outputs": [
    {
     "name": "stdout",
     "output_type": "stream",
     "text": [
      "tiktoken version: 0.12.0\n"
     ]
    }
   ],
   "source": [
    "from importlib.metadata import version\n",
    "import tiktoken\n",
    "print(\"tiktoken version:\", version(\"tiktoken\"))"
   ]
  },
  {
   "cell_type": "code",
   "execution_count": 68,
   "id": "ae144671",
   "metadata": {},
   "outputs": [
    {
     "name": "stdout",
     "output_type": "stream",
     "text": [
      "tiktoken ids: [15496, 11, 995, 13, 770, 318, 257, 1332, 13, 220, 50256, 770, 318, 617, 6439, 4775, 710, 4399, 268, 19052, 13]\n",
      "tiktoken decoded text: Hello, world. This is a test. <|endoftext|> This is some unknownwordneverseenbefore.\n"
     ]
    }
   ],
   "source": [
    "tokenizer = tiktoken.get_encoding(\"gpt2\")\n",
    "text = \"Hello, world. This is a test. <|endoftext|> This is some unknownwordneverseenbefore.\"\n",
    "ids = tokenizer.encode(text, allowed_special={\"<|endoftext|>\"})\n",
    "print(\"tiktoken ids:\", ids)\n",
    "decoded_text = tokenizer.decode(ids)\n",
    "print(\"tiktoken decoded text:\", decoded_text)"
   ]
  },
  {
   "cell_type": "markdown",
   "id": "11193980",
   "metadata": {},
   "source": [
    "### Exercise 2.1"
   ]
  },
  {
   "cell_type": "code",
   "execution_count": 69,
   "id": "6d804045",
   "metadata": {},
   "outputs": [
    {
     "name": "stdout",
     "output_type": "stream",
     "text": [
      "tiktoken ids for 'Akwirw ier': [33901, 86, 343, 86, 220, 959]\n",
      "tiktoken decoded text: Akwirw ier\n"
     ]
    }
   ],
   "source": [
    "tokenizer = tiktoken.get_encoding(\"gpt2\")\n",
    "text = \"Akwirw ier\"\n",
    "ids = tokenizer.encode(text)\n",
    "print(\"tiktoken ids for 'Akwirw ier':\", ids)\n",
    "decoded_text = tokenizer.decode(ids)\n",
    "print(\"tiktoken decoded text:\", decoded_text)"
   ]
  },
  {
   "cell_type": "markdown",
   "id": "90c9b3a3",
   "metadata": {},
   "source": [
    "### Sampling with sliding window"
   ]
  },
  {
   "cell_type": "code",
   "execution_count": 72,
   "id": "418db00a",
   "metadata": {},
   "outputs": [
    {
     "name": "stdout",
     "output_type": "stream",
     "text": [
      "Length of encoded text: 5145\n",
      "[290] -> 4920\n",
      " and ->  established\n",
      "---\n",
      "[290, 4920] -> 2241\n",
      " and established ->  himself\n",
      "---\n",
      "[290, 4920, 2241] -> 287\n",
      " and established himself ->  in\n",
      "---\n",
      "[290, 4920, 2241, 287] -> 257\n",
      " and established himself in ->  a\n",
      "---\n",
      "[4920, 2241, 287, 257] -> 4489\n",
      " established himself in a ->  vill\n",
      "---\n",
      "[2241, 287, 257, 4489] -> 64\n",
      " himself in a vill -> a\n",
      "---\n",
      "[287, 257, 4489, 64] -> 319\n",
      " in a villa ->  on\n",
      "---\n",
      "[257, 4489, 64, 319] -> 262\n",
      " a villa on ->  the\n",
      "---\n",
      "[4489, 64, 319, 262] -> 34686\n",
      " villa on the ->  Riv\n",
      "---\n",
      "[64, 319, 262, 34686] -> 41976\n",
      "a on the Riv -> iera\n",
      "---\n",
      "[319, 262, 34686, 41976] -> 13\n",
      " on the Riviera -> .\n",
      "---\n",
      "[262, 34686, 41976, 13] -> 357\n",
      " the Riviera. ->  (\n",
      "---\n",
      "[34686, 41976, 13, 357] -> 10915\n",
      " Riviera. ( -> Though\n",
      "---\n",
      "[41976, 13, 357, 10915] -> 314\n",
      "iera. (Though ->  I\n",
      "---\n",
      "[13, 357, 10915, 314] -> 2138\n",
      ". (Though I ->  rather\n",
      "---\n",
      "[357, 10915, 314, 2138] -> 1807\n",
      " (Though I rather ->  thought\n",
      "---\n",
      "[10915, 314, 2138, 1807] -> 340\n",
      "Though I rather thought ->  it\n",
      "---\n",
      "[314, 2138, 1807, 340] -> 561\n",
      " I rather thought it ->  would\n",
      "---\n",
      "[2138, 1807, 340, 561] -> 423\n",
      " rather thought it would ->  have\n",
      "---\n"
     ]
    }
   ],
   "source": [
    "with open(\"the-verdict.txt\", \"r\", encoding=\"utf-8\") as f:\n",
    "    raw_text = f.read()\n",
    "enc_text = tokenizer.encode(raw_text)\n",
    "print(\"Length of encoded text:\", len(enc_text))\n",
    "\n",
    "enc_sample = enc_text[50:]\n",
    "context_size = 4\n",
    "\n",
    "for i in range(1, 20):\n",
    "    lookback_start = max(0, i - context_size)\n",
    "    context = enc_sample[lookback_start:i]\n",
    "    desired = enc_sample[i]\n",
    "    print(context, \"->\", desired)\n",
    "    print(tokenizer.decode(context), \"->\", tokenizer.decode([desired]))\n",
    "    print(\"---\")\n"
   ]
  }
 ],
 "metadata": {
  "kernelspec": {
   "display_name": "venv",
   "language": "python",
   "name": "python3"
  },
  "language_info": {
   "codemirror_mode": {
    "name": "ipython",
    "version": 3
   },
   "file_extension": ".py",
   "mimetype": "text/x-python",
   "name": "python",
   "nbconvert_exporter": "python",
   "pygments_lexer": "ipython3",
   "version": "3.10.12"
  }
 },
 "nbformat": 4,
 "nbformat_minor": 5
}
