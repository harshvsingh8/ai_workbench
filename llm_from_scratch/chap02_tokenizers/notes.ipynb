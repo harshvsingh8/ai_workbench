{
 "cells": [
  {
   "cell_type": "code",
   "execution_count": 4,
   "id": "b665aa18",
   "metadata": {},
   "outputs": [],
   "source": [
    "import numpy\n",
    "import torch\n",
    "import re"
   ]
  },
  {
   "cell_type": "markdown",
   "id": "39af0ab0",
   "metadata": {},
   "source": [
    "The corpus file the-verdict.txt is downloaded using corpus_file_download.py script.\n",
    "It will serve as our training data for the exercises."
   ]
  },
  {
   "cell_type": "code",
   "execution_count": 3,
   "id": "81bdb7dd",
   "metadata": {},
   "outputs": [
    {
     "name": "stdout",
     "output_type": "stream",
     "text": [
      "Length of text: 20479 characters\n",
      "I HAD always thought Jack Gisburn rather a\n"
     ]
    }
   ],
   "source": [
    "\n",
    "with open(\"the-verdict.txt\", \"r\", encoding=\"utf-8\") as f:\n",
    "    raw_text = f.read()\n",
    "print(f\"Length of text: {len(raw_text)} characters\")\n",
    "print(raw_text[:42])\n"
   ]
  },
  {
   "cell_type": "code",
   "execution_count": 6,
   "id": "8d6dd458",
   "metadata": {},
   "outputs": [
    {
     "name": "stdout",
     "output_type": "stream",
     "text": [
      "['Hello,', ' ', 'world.', ' ', 'This', ' ', 'is', ' ', 'a', ' ', 'test.']\n"
     ]
    }
   ],
   "source": [
    "text = \"Hello, world. This is a test.\"\n",
    "result = re.split(r'(\\s)', text)\n",
    "print(result)"
   ]
  },
  {
   "cell_type": "code",
   "execution_count": 8,
   "id": "aa170c14",
   "metadata": {},
   "outputs": [
    {
     "name": "stdout",
     "output_type": "stream",
     "text": [
      "['Hello', ',', '', ' ', 'world', '.', '', ' ', 'This', ' ', 'is', ' ', 'a', ' ', 'test', '.', '']\n"
     ]
    }
   ],
   "source": [
    "# Split but keep the delimiters (commas, periods, and spaces) as tokens.\n",
    "text = \"Hello, world. This is a test.\"\n",
    "result = re.split(r'([,.]|\\s)', text)\n",
    "print(result) "
   ]
  },
  {
   "cell_type": "code",
   "execution_count": 11,
   "id": "d4183f90",
   "metadata": {},
   "outputs": [
    {
     "name": "stdout",
     "output_type": "stream",
     "text": [
      "['Hello', ',', 'world', '.', 'Is', 'this', '--', 'a', 'test', '?']\n"
     ]
    }
   ],
   "source": [
    "# More comprehensive tokenizer that keeps various punctuation as separate tokens (but removes empty tokens).\n",
    "text = \"Hello, world. Is this-- a test?\"\n",
    "result = re.split(r'([,.:;?_!\"()\\`]|--|\\s)', text)\n",
    "result = [tok.strip() for tok in result if tok.strip()]\n",
    "print(result) "
   ]
  },
  {
   "cell_type": "code",
   "execution_count": 39,
   "id": "0e58e117",
   "metadata": {},
   "outputs": [
    {
     "name": "stdout",
     "output_type": "stream",
     "text": [
      "4690\n",
      "['I', 'HAD', 'always', 'thought', 'Jack', 'Gisburn', 'rather', 'a', 'cheap', 'genius', '--', 'though', 'a', 'good', 'fellow', 'enough', '--', 'so', 'it', 'was', 'no', 'great', 'surprise', 'to', 'me', 'to', 'hear', 'that', ',', 'in']\n",
      "Vocab size: 1130\n",
      "['!', '\"', \"'\", '(', ')', ',', '--', '.', ':', ';', '?', 'A', 'Ah', 'Among', 'And', 'Are', 'Arrt', 'As', 'At', 'Be']\n"
     ]
    }
   ],
   "source": [
    "# Tokenizing the actual corpus text - printing its length and first tokens.\n",
    "with open(\"the-verdict.txt\", \"r\", encoding=\"utf-8\") as f:\n",
    "    raw_text = f.read()\n",
    "   \n",
    "# Split but keep various punctuation as separate tokens (but removes empty tokens).\n",
    "preprocessed = re.split(r'([,.:;?_!\"()\\'`]|--|\\s)', raw_text)\n",
    "preprocessed = [tok.strip() for tok in preprocessed if tok.strip()]\n",
    "print(len(preprocessed))\n",
    "print(preprocessed[:30])\n",
    "\n",
    "all_words = sorted(set(preprocessed))\n",
    "vocab_size = len(all_words)\n",
    "print(f\"Vocab size: {vocab_size}\")\n",
    "print(all_words[:20])\n"
   ]
  },
  {
   "cell_type": "code",
   "execution_count": 47,
   "id": "de6ecef3",
   "metadata": {},
   "outputs": [
    {
     "name": "stdout",
     "output_type": "stream",
     "text": [
      "('!', 0)\n",
      "('\"', 1)\n",
      "(\"'\", 2)\n",
      "('(', 3)\n",
      "(')', 4)\n",
      "(',', 5)\n",
      "('--', 6)\n",
      "('.', 7)\n",
      "(':', 8)\n",
      "(';', 9)\n",
      "('?', 10)\n",
      "('A', 11)\n",
      "('Ah', 12)\n",
      "('Among', 13)\n",
      "('And', 14)\n",
      "('Are', 15)\n",
      "('Arrt', 16)\n",
      "('As', 17)\n"
     ]
    }
   ],
   "source": [
    "vocab = {token:index for index, token in enumerate(all_words)}\n",
    "inverse_vocab = {index:token for index, token in enumerate(all_words)}\n",
    "\n",
    "for index, item in enumerate(vocab.items()):\n",
    "    if index >= 18:\n",
    "        break\n",
    "    print(item)\n"
   ]
  },
  {
   "cell_type": "code",
   "execution_count": null,
   "id": "b538cd5b",
   "metadata": {},
   "outputs": [
    {
     "name": "stdout",
     "output_type": "stream",
     "text": [
      "encoded tokens: ['\"', 'It', \"'\", 's', 'the', 'last', 'he', 'painted', ',', 'you', 'know', ',', '\"', 'Mrs', '.', 'Gisburn', 'said', 'with', 'pardonable', 'pride', '.']\n",
      "[1, 56, 2, 850, 988, 602, 533, 746, 5, 1126, 596, 5, 1, 67, 7, 38, 851, 1108, 754, 793, 7]\n"
     ]
    }
   ],
   "source": [
    "import simple_tokenizer_v1\n",
    "\n",
    "# Tecnically reload the module to reflect any recent changes made to it externally.\n",
    "# import importlib\n",
    "# importlib.reload(simple_tokenizer_v1)\n",
    "\n",
    "tokenizer = simple_tokenizer_v1.SimpleTokenizerV1(vocab)\n",
    "text = \"\"\"\"It's the last he painted, you know,\"\n",
    "          Mrs. Gisburn said with pardonable pride.\"\"\"\n",
    "ids = tokenizer.encode(text)\n",
    "print(ids) \n",
    "    "
   ]
  },
  {
   "cell_type": "markdown",
   "id": "52212dc8",
   "metadata": {},
   "source": [
    "Now we will check what happens when we use an unseen token (not present in the corpus)."
   ]
  },
  {
   "cell_type": "code",
   "execution_count": 56,
   "id": "34d87107",
   "metadata": {},
   "outputs": [
    {
     "name": "stdout",
     "output_type": "stream",
     "text": [
      "encoded tokens: ['This', 'is', 'an', 'unseenword', 'test', '.']\n"
     ]
    },
    {
     "ename": "KeyError",
     "evalue": "'unseenword'",
     "output_type": "error",
     "traceback": [
      "\u001b[0;31m---------------------------------------------------------------------------\u001b[0m",
      "\u001b[0;31mKeyError\u001b[0m                                  Traceback (most recent call last)",
      "Cell \u001b[0;32mIn[56], line 2\u001b[0m\n\u001b[1;32m      1\u001b[0m text \u001b[38;5;241m=\u001b[39m \u001b[38;5;124m\"\u001b[39m\u001b[38;5;124mThis is an unseenword test.\u001b[39m\u001b[38;5;124m\"\u001b[39m\n\u001b[0;32m----> 2\u001b[0m ids \u001b[38;5;241m=\u001b[39m \u001b[43mtokenizer\u001b[49m\u001b[38;5;241;43m.\u001b[39;49m\u001b[43mencode\u001b[49m\u001b[43m(\u001b[49m\u001b[43mtext\u001b[49m\u001b[43m)\u001b[49m\n\u001b[1;32m      3\u001b[0m \u001b[38;5;28mprint\u001b[39m(ids)\n",
      "File \u001b[0;32m~/github/ai_workbench/llm_from_scratch/chap02_tokenizers/simple_tokenizer_v1.py:16\u001b[0m, in \u001b[0;36mSimpleTokenizerV1.encode\u001b[0;34m(self, text)\u001b[0m\n\u001b[1;32m     14\u001b[0m tokens \u001b[38;5;241m=\u001b[39m [tok\u001b[38;5;241m.\u001b[39mstrip() \u001b[38;5;28;01mfor\u001b[39;00m tok \u001b[38;5;129;01min\u001b[39;00m tokens \u001b[38;5;28;01mif\u001b[39;00m tok\u001b[38;5;241m.\u001b[39mstrip()]\n\u001b[1;32m     15\u001b[0m \u001b[38;5;28mprint\u001b[39m(\u001b[38;5;124m\"\u001b[39m\u001b[38;5;124mencoded tokens:\u001b[39m\u001b[38;5;124m\"\u001b[39m, tokens)\n\u001b[0;32m---> 16\u001b[0m \u001b[38;5;28;01mreturn\u001b[39;00m [\u001b[38;5;28mself\u001b[39m\u001b[38;5;241m.\u001b[39mvocab[token] \u001b[38;5;28;01mfor\u001b[39;00m token \u001b[38;5;129;01min\u001b[39;00m tokens]\n",
      "File \u001b[0;32m~/github/ai_workbench/llm_from_scratch/chap02_tokenizers/simple_tokenizer_v1.py:16\u001b[0m, in \u001b[0;36m<listcomp>\u001b[0;34m(.0)\u001b[0m\n\u001b[1;32m     14\u001b[0m tokens \u001b[38;5;241m=\u001b[39m [tok\u001b[38;5;241m.\u001b[39mstrip() \u001b[38;5;28;01mfor\u001b[39;00m tok \u001b[38;5;129;01min\u001b[39;00m tokens \u001b[38;5;28;01mif\u001b[39;00m tok\u001b[38;5;241m.\u001b[39mstrip()]\n\u001b[1;32m     15\u001b[0m \u001b[38;5;28mprint\u001b[39m(\u001b[38;5;124m\"\u001b[39m\u001b[38;5;124mencoded tokens:\u001b[39m\u001b[38;5;124m\"\u001b[39m, tokens)\n\u001b[0;32m---> 16\u001b[0m \u001b[38;5;28;01mreturn\u001b[39;00m [\u001b[38;5;28;43mself\u001b[39;49m\u001b[38;5;241;43m.\u001b[39;49m\u001b[43mvocab\u001b[49m\u001b[43m[\u001b[49m\u001b[43mtoken\u001b[49m\u001b[43m]\u001b[49m \u001b[38;5;28;01mfor\u001b[39;00m token \u001b[38;5;129;01min\u001b[39;00m tokens]\n",
      "\u001b[0;31mKeyError\u001b[0m: 'unseenword'"
     ]
    }
   ],
   "source": [
    "text = \"This is an unseenword test.\"\n",
    "ids = tokenizer.encode(text)\n",
    "print(ids)"
   ]
  },
  {
   "cell_type": "markdown",
   "id": "e383e18e",
   "metadata": {},
   "source": [
    "The next tokenizer version supports unknown and end-of-text tokens, so not it \n",
    "can handle unseen words and seperate token blocks."
   ]
  },
  {
   "cell_type": "code",
   "execution_count": 57,
   "id": "2e6bd435",
   "metadata": {},
   "outputs": [
    {
     "name": "stdout",
     "output_type": "stream",
     "text": [
      "encoded tokens: ['This', 'is', 'an', '<|unk|>', '<|unk|>', '.']\n",
      "ids: [97, 584, 156, 1130, 1130, 7]\n",
      "decoded text: This is an <|unk|> <|unk|>.\n"
     ]
    }
   ],
   "source": [
    "import simple_tokenizer_v2\n",
    "tokenizer_v2 = simple_tokenizer_v2.SimpleTokenizerV2(vocab)\n",
    "text = \"This is an unseenword test.\"\n",
    "ids = tokenizer_v2.encode(text)\n",
    "print(\"ids:\", ids)\n",
    "decoded_text = tokenizer_v2.decode(ids)\n",
    "print(\"decoded text:\", decoded_text)\n"
   ]
  },
  {
   "cell_type": "code",
   "execution_count": 59,
   "id": "d9612733",
   "metadata": {},
   "outputs": [
    {
     "name": "stdout",
     "output_type": "stream",
     "text": [
      "encoded tokens: ['<|unk|>', ',', 'do', 'you', 'like', 'tea', '?', '<|endoftext|>', 'In', 'the', 'sunlit', 'terraces', 'of', 'the', '<|unk|>', '.']\n",
      "ids: [1130, 5, 355, 1126, 628, 975, 10, 1131, 55, 988, 956, 984, 722, 988, 1130, 7]\n",
      "decoded text: <|unk|>, do you like tea? <|endoftext|> In the sunlit terraces of the <|unk|>.\n"
     ]
    }
   ],
   "source": [
    "import simple_tokenizer_v2\n",
    "tokenizer_v2 = simple_tokenizer_v2.SimpleTokenizerV2(vocab)\n",
    "\n",
    "text1 = \"Hello, do you like tea?\"\n",
    "text2 = \"In the sunlit terraces of the palace.\"\n",
    "text = \" <|endoftext|> \".join([text1, text2])\n",
    "ids = tokenizer_v2.encode(text)\n",
    "print(\"ids:\", ids)\n",
    "decoded_text = tokenizer_v2.decode(ids)\n",
    "print(\"decoded text:\", decoded_text)"
   ]
  },
  {
   "cell_type": "markdown",
   "id": "86890c2d",
   "metadata": {},
   "source": [
    "## BPE Encoding \n",
    "\n"
   ]
  },
  {
   "cell_type": "code",
   "execution_count": 60,
   "id": "927e9d4c",
   "metadata": {},
   "outputs": [
    {
     "name": "stdout",
     "output_type": "stream",
     "text": [
      "tiktoken version: 0.12.0\n"
     ]
    }
   ],
   "source": [
    "from importlib.metadata import version\n",
    "import tiktoken\n",
    "print(\"tiktoken version:\", version(\"tiktoken\"))"
   ]
  },
  {
   "cell_type": "code",
   "execution_count": 68,
   "id": "ae144671",
   "metadata": {},
   "outputs": [
    {
     "name": "stdout",
     "output_type": "stream",
     "text": [
      "tiktoken ids: [15496, 11, 995, 13, 770, 318, 257, 1332, 13, 220, 50256, 770, 318, 617, 6439, 4775, 710, 4399, 268, 19052, 13]\n",
      "tiktoken decoded text: Hello, world. This is a test. <|endoftext|> This is some unknownwordneverseenbefore.\n"
     ]
    }
   ],
   "source": [
    "tokenizer = tiktoken.get_encoding(\"gpt2\")\n",
    "text = \"Hello, world. This is a test. <|endoftext|> This is some unknownwordneverseenbefore.\"\n",
    "ids = tokenizer.encode(text, allowed_special={\"<|endoftext|>\"})\n",
    "print(\"tiktoken ids:\", ids)\n",
    "decoded_text = tokenizer.decode(ids)\n",
    "print(\"tiktoken decoded text:\", decoded_text)"
   ]
  },
  {
   "cell_type": "markdown",
   "id": "11193980",
   "metadata": {},
   "source": [
    "### Exercise 2.1"
   ]
  },
  {
   "cell_type": "code",
   "execution_count": 69,
   "id": "6d804045",
   "metadata": {},
   "outputs": [
    {
     "name": "stdout",
     "output_type": "stream",
     "text": [
      "tiktoken ids for 'Akwirw ier': [33901, 86, 343, 86, 220, 959]\n",
      "tiktoken decoded text: Akwirw ier\n"
     ]
    }
   ],
   "source": [
    "tokenizer = tiktoken.get_encoding(\"gpt2\")\n",
    "text = \"Akwirw ier\"\n",
    "ids = tokenizer.encode(text)\n",
    "print(\"tiktoken ids for 'Akwirw ier':\", ids)\n",
    "decoded_text = tokenizer.decode(ids)\n",
    "print(\"tiktoken decoded text:\", decoded_text)"
   ]
  },
  {
   "cell_type": "markdown",
   "id": "90c9b3a3",
   "metadata": {},
   "source": [
    "### Sampling with sliding window"
   ]
  },
  {
   "cell_type": "code",
   "execution_count": 72,
   "id": "418db00a",
   "metadata": {},
   "outputs": [
    {
     "name": "stdout",
     "output_type": "stream",
     "text": [
      "Length of encoded text: 5145\n",
      "[290] -> 4920\n",
      " and ->  established\n",
      "---\n",
      "[290, 4920] -> 2241\n",
      " and established ->  himself\n",
      "---\n",
      "[290, 4920, 2241] -> 287\n",
      " and established himself ->  in\n",
      "---\n",
      "[290, 4920, 2241, 287] -> 257\n",
      " and established himself in ->  a\n",
      "---\n",
      "[4920, 2241, 287, 257] -> 4489\n",
      " established himself in a ->  vill\n",
      "---\n",
      "[2241, 287, 257, 4489] -> 64\n",
      " himself in a vill -> a\n",
      "---\n",
      "[287, 257, 4489, 64] -> 319\n",
      " in a villa ->  on\n",
      "---\n",
      "[257, 4489, 64, 319] -> 262\n",
      " a villa on ->  the\n",
      "---\n",
      "[4489, 64, 319, 262] -> 34686\n",
      " villa on the ->  Riv\n",
      "---\n",
      "[64, 319, 262, 34686] -> 41976\n",
      "a on the Riv -> iera\n",
      "---\n",
      "[319, 262, 34686, 41976] -> 13\n",
      " on the Riviera -> .\n",
      "---\n",
      "[262, 34686, 41976, 13] -> 357\n",
      " the Riviera. ->  (\n",
      "---\n",
      "[34686, 41976, 13, 357] -> 10915\n",
      " Riviera. ( -> Though\n",
      "---\n",
      "[41976, 13, 357, 10915] -> 314\n",
      "iera. (Though ->  I\n",
      "---\n",
      "[13, 357, 10915, 314] -> 2138\n",
      ". (Though I ->  rather\n",
      "---\n",
      "[357, 10915, 314, 2138] -> 1807\n",
      " (Though I rather ->  thought\n",
      "---\n",
      "[10915, 314, 2138, 1807] -> 340\n",
      "Though I rather thought ->  it\n",
      "---\n",
      "[314, 2138, 1807, 340] -> 561\n",
      " I rather thought it ->  would\n",
      "---\n",
      "[2138, 1807, 340, 561] -> 423\n",
      " rather thought it would ->  have\n",
      "---\n"
     ]
    }
   ],
   "source": [
    "with open(\"the-verdict.txt\", \"r\", encoding=\"utf-8\") as f:\n",
    "    raw_text = f.read()\n",
    "enc_text = tokenizer.encode(raw_text)\n",
    "print(\"Length of encoded text:\", len(enc_text))\n",
    "\n",
    "enc_sample = enc_text[50:]\n",
    "context_size = 4\n",
    "\n",
    "for i in range(1, 20):\n",
    "    lookback_start = max(0, i - context_size)\n",
    "    context = enc_sample[lookback_start:i]\n",
    "    desired = enc_sample[i]\n",
    "    print(context, \"->\", desired)\n",
    "    print(tokenizer.decode(context), \"->\", tokenizer.decode([desired]))\n",
    "    print(\"---\")\n"
   ]
  },
  {
   "cell_type": "code",
   "execution_count": 90,
   "id": "d7c21772",
   "metadata": {},
   "outputs": [
    {
     "name": "stdout",
     "output_type": "stream",
     "text": [
      "First batch input ids:\n",
      " [tensor([[  40,  367, 2885, 1464]]), tensor([[ 367, 2885, 1464, 1807]])]\n",
      "Second batch input ids:\n",
      " [tensor([[ 367, 2885, 1464, 1807]]), tensor([[2885, 1464, 1807, 3619]])]\n",
      "First batch input ids:\n",
      " [tensor([[  40,  367, 2885, 1464, 1807, 3619]]), tensor([[ 367, 2885, 1464, 1807, 3619,  402]])]\n",
      "Second batch input ids:\n",
      " [tensor([[2885, 1464, 1807, 3619,  402,  271]]), tensor([[ 1464,  1807,  3619,   402,   271, 10899]])]\n"
     ]
    }
   ],
   "source": [
    "import gpt_dataset_v1\n",
    "\n",
    "with open(\"the-verdict.txt\", \"r\", encoding=\"utf-8\") as f:\n",
    "    raw_text = f.read()\n",
    "\n",
    "# with stride 1 \n",
    "dataloader = gpt_dataset_v1.create_dataloader_v1(raw_text, batch_size=1, max_seq_length=4, stride=1, shuffle=False)\n",
    "\n",
    "data_iter = iter(dataloader)\n",
    "\n",
    "first_batch = next(data_iter)\n",
    "print(\"First batch input ids:\\n\", first_batch)\n",
    "\n",
    "second_batch = next(data_iter)\n",
    "print(\"Second batch input ids:\\n\", second_batch)\n",
    "\n",
    "\n",
    "### Exercise 2.2\n",
    "\n",
    "# with stride 2 and seq length 6\n",
    "dataloader = gpt_dataset_v1.create_dataloader_v1(raw_text, batch_size=1, max_seq_length=6, stride=2, shuffle=False)\n",
    "\n",
    "data_iter = iter(dataloader)\n",
    "\n",
    "first_batch = next(data_iter)\n",
    "print(\"First batch input ids:\\n\", first_batch)\n",
    "\n",
    "second_batch = next(data_iter)\n",
    "print(\"Second batch input ids:\\n\", second_batch)\n"
   ]
  },
  {
   "cell_type": "code",
   "execution_count": 91,
   "id": "2f553a45",
   "metadata": {},
   "outputs": [
    {
     "name": "stdout",
     "output_type": "stream",
     "text": [
      "First batch input ids:\n",
      " [tensor([[   40,   367,  2885,  1464],\n",
      "        [ 1807,  3619,   402,   271],\n",
      "        [10899,  2138,   257,  7026],\n",
      "        [15632,   438,  2016,   257],\n",
      "        [  922,  5891,  1576,   438],\n",
      "        [  568,   340,   373,   645]]), tensor([[  367,  2885,  1464,  1807],\n",
      "        [ 3619,   402,   271, 10899],\n",
      "        [ 2138,   257,  7026, 15632],\n",
      "        [  438,  2016,   257,   922],\n",
      "        [ 5891,  1576,   438,   568],\n",
      "        [  340,   373,   645,  1049]])]\n",
      "Second batch input ids:\n",
      " [tensor([[ 1049,  5975,   284,   502],\n",
      "        [  284,  3285,   326,    11],\n",
      "        [  287,   262,  6001,   286],\n",
      "        [  465, 13476,    11,   339],\n",
      "        [  550,  5710,   465, 12036],\n",
      "        [   11,  6405,   257,  5527]]), tensor([[ 5975,   284,   502,   284],\n",
      "        [ 3285,   326,    11,   287],\n",
      "        [  262,  6001,   286,   465],\n",
      "        [13476,    11,   339,   550],\n",
      "        [ 5710,   465, 12036,    11],\n",
      "        [ 6405,   257,  5527, 27075]])]\n"
     ]
    }
   ],
   "source": [
    "# Experimenting with larger batch size and stride equal to seq length - so there is no overlap and each batch has unique sequences.\n",
    "dataloader = gpt_dataset_v1.create_dataloader_v1(raw_text, batch_size=6, max_seq_length=4, stride=4, shuffle=False)\n",
    "\n",
    "data_iter = iter(dataloader)\n",
    "\n",
    "first_batch = next(data_iter)\n",
    "print(\"First batch input ids:\\n\", first_batch)\n",
    "\n",
    "second_batch = next(data_iter)\n",
    "print(\"Second batch input ids:\\n\", second_batch)"
   ]
  },
  {
   "cell_type": "markdown",
   "id": "d1bdd575",
   "metadata": {},
   "source": [
    "### Batching vs Sequential Processing\n",
    "\n",
    "The key difference between true batching and processing sequences one by one:\n",
    "\n",
    "**True Batching (batch_size=6):**\n",
    "- Single forward pass for 6 sequences simultaneously\n",
    "- GPU processes all sequences in parallel\n",
    "- Efficient matrix operations and memory usage\n",
    "\n",
    "**Sequential Processing (batch_size=1, repeated 6 times):**\n",
    "- 6 separate forward passes\n",
    "- GPU underutilized (processing one sequence at a time)\n",
    "- Less efficient, even with gradient accumulation"
   ]
  },
  {
   "cell_type": "code",
   "execution_count": 92,
   "id": "531a5cee",
   "metadata": {},
   "outputs": [
    {
     "name": "stdout",
     "output_type": "stream",
     "text": [
      "=== True Batching (batch_size=6) ===\n",
      "Batch shape: torch.Size([6, 4])\n",
      "Target shape: torch.Size([6, 4])\n",
      "Batch data:\n",
      "tensor([[   40,   367,  2885,  1464],\n",
      "        [ 1807,  3619,   402,   271],\n",
      "        [10899,  2138,   257,  7026],\n",
      "        [15632,   438,  2016,   257],\n",
      "        [  922,  5891,  1576,   438],\n",
      "        [  568,   340,   373,   645]])\n",
      "\n",
      "=== Sequential Processing (batch_size=1, 6 times) ===\n",
      "Batch 1 shape: torch.Size([1, 4])\n",
      "First batch data:\n",
      "tensor([[  40,  367, 2885, 1464]])\n",
      "Batch 2 shape: torch.Size([1, 4])\n",
      "Batch 3 shape: torch.Size([1, 4])\n",
      "Batch 4 shape: torch.Size([1, 4])\n",
      "Batch 5 shape: torch.Size([1, 4])\n",
      "Batch 6 shape: torch.Size([1, 4])\n",
      "\n",
      "Notice: True batching gives us (6, 4) tensor, sequential gives us 6 separate (1, 4) tensors\n",
      "GPU can process the (6, 4) tensor much more efficiently!\n"
     ]
    }
   ],
   "source": [
    "# Let's demonstrate the shape difference between true batching and sequential processing\n",
    "\n",
    "print(\"=== True Batching (batch_size=6) ===\")\n",
    "dataloader_batched = gpt_dataset_v1.create_dataloader_v1(raw_text, batch_size=6, max_seq_length=4, stride=4, shuffle=False)\n",
    "batch_data = next(iter(dataloader_batched))\n",
    "print(f\"Batch shape: {batch_data[0].shape}\")  # inputs\n",
    "print(f\"Target shape: {batch_data[1].shape}\")  # targets\n",
    "print(f\"Batch data:\\n{batch_data[0]}\")\n",
    "\n",
    "print(\"\\n=== Sequential Processing (batch_size=1, 6 times) ===\")\n",
    "dataloader_sequential = gpt_dataset_v1.create_dataloader_v1(raw_text, batch_size=1, max_seq_length=4, stride=4, shuffle=False)\n",
    "data_iter = iter(dataloader_sequential)\n",
    "\n",
    "for i in range(6):\n",
    "    single_batch = next(data_iter)\n",
    "    print(f\"Batch {i+1} shape: {single_batch[0].shape}\")\n",
    "    if i == 0:\n",
    "        print(f\"First batch data:\\n{single_batch[0]}\")\n",
    "\n",
    "print(\"\\nNotice: True batching gives us (6, 4) tensor, sequential gives us 6 separate (1, 4) tensors\")\n",
    "print(\"GPU can process the (6, 4) tensor much more efficiently!\")"
   ]
  },
  {
   "cell_type": "markdown",
   "id": "3e342611",
   "metadata": {},
   "source": [
    "### Token Embedding\n",
    "\n",
    "A continuous vector representation, or embedding, is necessary since GPT-like LLMs are DNN trained with back-propagation algorithm.\n",
    "We initialize the embedding values with random weights which are adjusted during the model training stage."
   ]
  },
  {
   "cell_type": "code",
   "execution_count": 98,
   "id": "c67c64e0",
   "metadata": {},
   "outputs": [
    {
     "name": "stdout",
     "output_type": "stream",
     "text": [
      "Parameter containing:\n",
      "tensor([[ 0.3374, -0.1778, -0.1690],\n",
      "        [ 0.9178,  1.5810,  1.3010],\n",
      "        [ 1.2753, -0.2010, -0.1606],\n",
      "        [-0.4015,  0.9666, -1.1481],\n",
      "        [-1.1589,  0.3255, -0.6315],\n",
      "        [-2.8400, -0.7849, -1.4096]], requires_grad=True)\n",
      "Input IDs: tensor([1, 2, 3, 4])\n",
      "Embedding for input_ids: tensor([[ 0.9178,  1.5810,  1.3010],\n",
      "        [ 1.2753, -0.2010, -0.1606],\n",
      "        [-0.4015,  0.9666, -1.1481],\n",
      "        [-1.1589,  0.3255, -0.6315]], grad_fn=<EmbeddingBackward0>)\n"
     ]
    }
   ],
   "source": [
    "vocab_size = 6\n",
    "output_dim = 3\n",
    "\n",
    "# Example where we initialize the embedding layer for a sample vocabulary and embedding dimension using random weights.\n",
    "torch.manual_seed(123)\n",
    "embedding_layer = torch.nn.Embedding(vocab_size, output_dim)\n",
    "print(embedding_layer.weight)\n",
    "\n",
    "input_ids = torch.tensor([1, 2, 3, 4])\n",
    "print(\"Input IDs:\", input_ids)\n",
    "print(\"Embedding for input_ids:\", embedding_layer(input_ids))"
   ]
  },
  {
   "cell_type": "markdown",
   "id": "3487bfc1",
   "metadata": {},
   "source": [
    "### Positional Encoding"
   ]
  },
  {
   "cell_type": "code",
   "execution_count": 101,
   "id": "d948e063",
   "metadata": {},
   "outputs": [
    {
     "name": "stdout",
     "output_type": "stream",
     "text": [
      "Token embedding shape: torch.Size([50257, 768])\n",
      "Positional embedding shape: torch.Size([1024, 768])\n",
      "\n",
      "Input sequence: tensor([15496,    11,   995,    13])\n",
      "Sequence length: 4\n",
      "Token embeddings shape: torch.Size([4, 768])\n",
      "Position IDs: tensor([0, 1, 2, 3])\n",
      "Positional embeddings shape: torch.Size([4, 768])\n",
      "Final embeddings shape: torch.Size([4, 768])\n",
      "\n",
      "First token + position embedding (first few values): tensor([ 2.9810,  1.5500,  1.6250, -1.2085,  1.4077], grad_fn=<SliceBackward0>)\n"
     ]
    }
   ],
   "source": [
    "# Demonstrating GPT-2 style positional embeddings\n",
    "\n",
    "# Parameters\n",
    "vocab_size = 50257  # GPT-2's vocabulary size\n",
    "max_seq_length = 1024  # GPT-2 base context length\n",
    "embed_dim = 768  # GPT-2 base embedding dimension\n",
    "\n",
    "# Token embeddings (same as before)\n",
    "torch.manual_seed(123)\n",
    "token_embedding_layer = torch.nn.Embedding(vocab_size, embed_dim)\n",
    "\n",
    "# Positional embeddings - one embedding vector for each possible position\n",
    "pos_embedding_layer = torch.nn.Embedding(max_seq_length, embed_dim)\n",
    "\n",
    "print(f\"Token embedding shape: {token_embedding_layer.weight.shape}\")\n",
    "print(f\"Positional embedding shape: {pos_embedding_layer.weight.shape}\")\n",
    "\n",
    "# Example with a sequence\n",
    "input_ids = torch.tensor([15496, 11, 995, 13])  # Example token IDs\n",
    "seq_length = input_ids.size(0)\n",
    "\n",
    "print(f\"\\nInput sequence: {input_ids}\")\n",
    "print(f\"Sequence length: {seq_length}\")\n",
    "\n",
    "# Get token embeddings\n",
    "token_embeddings = token_embedding_layer(input_ids)\n",
    "print(f\"Token embeddings shape: {token_embeddings.shape}\")\n",
    "\n",
    "# Get positional embeddings (for positions 0, 1, 2, 3)\n",
    "position_ids = torch.arange(seq_length)\n",
    "pos_embeddings = pos_embedding_layer(position_ids)\n",
    "print(f\"Position IDs: {position_ids}\")\n",
    "print(f\"Positional embeddings shape: {pos_embeddings.shape}\")\n",
    "\n",
    "# Final embeddings = token embeddings + positional embeddings\n",
    "final_embeddings = token_embeddings + pos_embeddings\n",
    "print(f\"Final embeddings shape: {final_embeddings.shape}\")\n",
    "\n",
    "print(f\"\\nFirst token + position embedding (first few values): {final_embeddings[0, :5]}\")"
   ]
  },
  {
   "cell_type": "markdown",
   "id": "d0280490",
   "metadata": {},
   "source": [
    "### Comparison: GPT-2 vs Original Transformer Positional Encodings\n",
    "\n",
    "**GPT-2 (Learned Absolute):**\n",
    "- ✅ Learns optimal position representations during training\n",
    "- ✅ Can capture complex positional patterns\n",
    "- ❌ Limited by maximum sequence length during training\n",
    "- ❌ Cannot extrapolate to longer sequences\n",
    "\n",
    "**Original Transformer (Sinusoidal):**\n",
    "- ✅ Can handle sequences longer than training length\n",
    "- ✅ No additional parameters to learn\n",
    "- ✅ Mathematical properties allow extrapolation\n",
    "- ❌ Fixed pattern may not be optimal for all tasks\n",
    "\n",
    "**Why GPT-2 chose learned embeddings:**\n",
    "- Better performance on language modeling tasks\n",
    "- More flexibility to learn task-specific positional patterns\n",
    "- Context length was fixed anyway (1024/2048 tokens)"
   ]
  },
  {
   "cell_type": "code",
   "execution_count": 105,
   "id": "34a993a4",
   "metadata": {},
   "outputs": [
    {
     "name": "stdout",
     "output_type": "stream",
     "text": [
      "Batch input ids:\n",
      " tensor([[   40,   367,  2885,  1464],\n",
      "        [ 1807,  3619,   402,   271],\n",
      "        [10899,  2138,   257,  7026],\n",
      "        [15632,   438,  2016,   257],\n",
      "        [  922,  5891,  1576,   438],\n",
      "        [  568,   340,   373,   645],\n",
      "        [ 1049,  5975,   284,   502],\n",
      "        [  284,  3285,   326,    11]])\n",
      "Input shape: torch.Size([8, 4])\n",
      "Token embeddings shape: torch.Size([8, 4, 256])\n"
     ]
    }
   ],
   "source": [
    "# Putting it all together: Creating a dataloader and passing a batch through the embedding layer\n",
    "vocab_size = 50257\n",
    "output_dim = 256\n",
    "token_embedding_layer = torch.nn.Embedding(vocab_size, output_dim)\n",
    "\n",
    "max_length = 4\n",
    "dataloader = gpt_dataset_v1.create_dataloader_v1(raw_text, batch_size=8, max_seq_length=max_length, stride=max_length, shuffle=False)    \n",
    "\n",
    "data_iter = iter(dataloader)\n",
    "inputs, targets = next(data_iter)\n",
    "print(\"Batch input ids:\\n\", inputs)\n",
    "print(\"Input shape:\", inputs.shape)\n",
    "\n",
    "torch.manual_seed(123)\n",
    "embedding_layer = torch.nn.Embedding(vocab_size, output_dim)\n",
    "token_embeddings = token_embedding_layer(inputs)\n",
    "print(\"Token embeddings shape:\", token_embeddings.shape)"
   ]
  },
  {
   "cell_type": "markdown",
   "id": "1ac22293",
   "metadata": {},
   "source": [
    "For GPT-2 model's - absolute (learned) positional embedding approach - we need to create another embedding dimension.\n"
   ]
  },
  {
   "cell_type": "code",
   "execution_count": 107,
   "id": "c3432d2c",
   "metadata": {},
   "outputs": [
    {
     "name": "stdout",
     "output_type": "stream",
     "text": [
      "torch.Size([4, 256])\n"
     ]
    }
   ],
   "source": [
    "context_length = max_length = 4\n",
    "output_dim = 256\n",
    "pos_embedding_layer = torch.nn.Embedding(context_length, output_dim)\n",
    "pos_embeddings = pos_embedding_layer(torch.arange(context_length))\n",
    "print(pos_embeddings.shape)"
   ]
  },
  {
   "cell_type": "markdown",
   "id": "5415b997",
   "metadata": {},
   "source": [
    "The pos_embedding is of shape: torch.Size([4, 256]) - for 4 positions and mapped embedding values."
   ]
  },
  {
   "cell_type": "code",
   "execution_count": null,
   "id": "428f53e9",
   "metadata": {},
   "outputs": [
    {
     "name": "stdout",
     "output_type": "stream",
     "text": [
      "Input embeddings shape after adding positional embeddings: torch.Size([8, 4, 256])\n"
     ]
    }
   ],
   "source": [
    "# Adding positional embeddings to token embeddings to prepare final input embeddings\n",
    "input_embeddings = token_embeddings + pos_embeddings\n",
    "print(\"Input embeddings shape after adding positional embeddings:\", input_embeddings.shape)"
   ]
  },
  {
   "cell_type": "markdown",
   "id": "3a74b719",
   "metadata": {},
   "source": [
    "torch.Size([8, 4, 256]) - for a batch of 8 having 4 tokens each and 256 embedding weights per token including the mapped positional embedding. "
   ]
  },
  {
   "attachments": {
    "image.png": {
     "image/png": "[encoded data removed]"
    }
   },
   "cell_type": "markdown",
   "id": "597557ea",
   "metadata": {},
   "source": [
    "![image.png](attachment:image.png)"
   ]
  }
 ],
 "metadata": {
  "kernelspec": {
   "display_name": "venv",
   "language": "python",
   "name": "python3"
  },
  "language_info": {
   "codemirror_mode": {
    "name": "ipython",
    "version": 3
   },
   "file_extension": ".py",
   "mimetype": "text/x-python",
   "name": "python",
   "nbconvert_exporter": "python",
   "pygments_lexer": "ipython3",
   "version": "3.10.12"
  }
 },
 "nbformat": 4,
 "nbformat_minor": 5
}
